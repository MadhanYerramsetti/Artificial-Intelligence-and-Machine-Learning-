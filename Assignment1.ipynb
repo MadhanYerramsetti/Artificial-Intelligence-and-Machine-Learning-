{
  "nbformat": 4,
  "nbformat_minor": 0,
  "metadata": {
    "colab": {
      "provenance": [],
      "authorship_tag": "ABX9TyOryDcEXZemZDpO039ejNB9",
      "include_colab_link": true
    },
    "kernelspec": {
      "name": "python3",
      "display_name": "Python 3"
    },
    "language_info": {
      "name": "python"
    }
  },
  "cells": [
    {
      "cell_type": "markdown",
      "metadata": {
        "id": "view-in-github",
        "colab_type": "text"
      },
      "source": [
        "<a href=\"https://colab.research.google.com/github/MadhanYerramsetti/Artificial-Intelligence-and-Machine-Learning-/blob/main/Assignment1.ipynb\" target=\"_parent\"><img src=\"https://colab.research.google.com/assets/colab-badge.svg\" alt=\"Open In Colab\"/></a>"
      ]
    },
    {
      "cell_type": "code",
      "execution_count": 1,
      "metadata": {
        "id": "fNp35T4InJvZ"
      },
      "outputs": [],
      "source": [
        "# Task1-Create Two lists and Join Those Two lists"
      ]
    },
    {
      "cell_type": "code",
      "source": [
        "test_List1 =[1,14,15,6,5 ]"
      ],
      "metadata": {
        "id": "1OnHoaGxvgIF"
      },
      "execution_count": 3,
      "outputs": []
    },
    {
      "cell_type": "code",
      "source": [
        "test_List2 =[3,4,7,12,51]"
      ],
      "metadata": {
        "id": "i5sZ5wP9wwOn"
      },
      "execution_count": 4,
      "outputs": []
    },
    {
      "cell_type": "code",
      "source": [
        "test_List3 = test_List1 + test_List2"
      ],
      "metadata": {
        "id": "mNttykSwxFuE"
      },
      "execution_count": 7,
      "outputs": []
    },
    {
      "cell_type": "code",
      "source": [
        "print(\"concatented list using + :\" + str(test_List3))"
      ],
      "metadata": {
        "colab": {
          "base_uri": "https://localhost:8080/"
        },
        "id": "gtzLjop9xxPF",
        "outputId": "95aa960a-f1b3-4fc3-e41f-f076e06d4fb6"
      },
      "execution_count": 11,
      "outputs": [
        {
          "output_type": "stream",
          "name": "stdout",
          "text": [
            "concatented list using + :[1, 14, 15, 6, 5, 3, 4, 7, 12, 51]\n"
          ]
        }
      ]
    },
    {
      "cell_type": "code",
      "source": [
        "#Task2-With 'if' Statement Find the Even numbers"
      ],
      "metadata": {
        "id": "hCiHdQoPzHW7"
      },
      "execution_count": 12,
      "outputs": []
    },
    {
      "cell_type": "code",
      "source": [
        "num = int (input(\"Enter a number:\"))\n",
        "if(num % 2)==0:\n",
        "    print (\"The number is even\")\n",
        "else:\n",
        "    print (\"The number is not even\")\n",
        ""
      ],
      "metadata": {
        "colab": {
          "base_uri": "https://localhost:8080/"
        },
        "id": "1JlppLmtz3Ip",
        "outputId": "1b73cb5e-154e-4aea-f08e-0afe8e02c087"
      },
      "execution_count": 17,
      "outputs": [
        {
          "output_type": "stream",
          "name": "stdout",
          "text": [
            "Enter a number:6\n",
            "The number is even\n"
          ]
        }
      ]
    },
    {
      "cell_type": "code",
      "source": [
        "#Task3-Create a dictionary With 3 keys and 2 values for each key"
      ],
      "metadata": {
        "id": "QlZeQW_u7hve"
      },
      "execution_count": 18,
      "outputs": []
    },
    {
      "cell_type": "code",
      "source": [
        "demo = {'first':[1,2],\n",
        "        'second':[3,4],\n",
        "        'third': [5,6]}\n"
      ],
      "metadata": {
        "id": "K30nuOAh8Vt5"
      },
      "execution_count": 29,
      "outputs": []
    },
    {
      "cell_type": "code",
      "source": [
        "example = demo['first']\n",
        "\n"
      ],
      "metadata": {
        "id": "OhVAoYvS9aWK"
      },
      "execution_count": 30,
      "outputs": []
    },
    {
      "cell_type": "code",
      "source": [
        "print(example)"
      ],
      "metadata": {
        "colab": {
          "base_uri": "https://localhost:8080/"
        },
        "id": "geJFVk1H-viL",
        "outputId": "1f8d266d-c667-4140-a332-36d6daece503"
      },
      "execution_count": 31,
      "outputs": [
        {
          "output_type": "stream",
          "name": "stdout",
          "text": [
            "[1, 2]\n"
          ]
        }
      ]
    },
    {
      "cell_type": "code",
      "source": [
        "#Task4-Create a function with 'if'Statement which is used to find the odd numbers"
      ],
      "metadata": {
        "id": "mn6SGYF0_Rq7"
      },
      "execution_count": 32,
      "outputs": []
    },
    {
      "cell_type": "code",
      "source": [
        "number = int(input(\"enter any number:\"))\n",
        "if(number %2)==0:\n",
        "  print(\"{0}is not an odd number\".format(number))\n",
        "else:\n",
        "  print(\"{0}is an odd number\".format(number))\n",
        "\n",
        "\n"
      ],
      "metadata": {
        "colab": {
          "base_uri": "https://localhost:8080/"
        },
        "id": "FTMMuec7_0mO",
        "outputId": "9558f78b-2a94-46fd-8ed4-dff1e5603e79"
      },
      "execution_count": 37,
      "outputs": [
        {
          "output_type": "stream",
          "name": "stdout",
          "text": [
            "enter any number:47\n",
            "47is an odd number\n"
          ]
        }
      ]
    },
    {
      "cell_type": "code",
      "source": [
        "#Task5-write a python function to sum all the numbers in a list\n",
        "#sample list:(8,2,3,0,7)\n",
        "#Expected Output:20"
      ],
      "metadata": {
        "id": "BCKBwAgODT-O"
      },
      "execution_count": 38,
      "outputs": []
    },
    {
      "cell_type": "code",
      "source": [
        "list1=[8,2,3,0,7]"
      ],
      "metadata": {
        "id": "USUopE3CEOu2"
      },
      "execution_count": 39,
      "outputs": []
    },
    {
      "cell_type": "code",
      "source": [
        "total=sum(list1)"
      ],
      "metadata": {
        "id": "fzY8eBLCEk38"
      },
      "execution_count": 40,
      "outputs": []
    },
    {
      "cell_type": "code",
      "source": [
        "print (\"The sum of elements in list:\", total)"
      ],
      "metadata": {
        "colab": {
          "base_uri": "https://localhost:8080/"
        },
        "id": "ZA7logxgFP5a",
        "outputId": "b2a734bb-bf83-4055-fa6e-f59d623f76ae"
      },
      "execution_count": 41,
      "outputs": [
        {
          "output_type": "stream",
          "name": "stdout",
          "text": [
            "The sum of elements in list: 20\n"
          ]
        }
      ]
    }
  ]
}